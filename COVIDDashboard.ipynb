{
 "cells": [
  {
   "cell_type": "code",
   "execution_count": 1,
   "id": "f0a381a8-a883-4123-a274-2fd2bd4dcdb8",
   "metadata": {},
   "outputs": [],
   "source": [
    "from IPython.display import clear_output\n",
    "import ipywidgets as wdg\n",
    "import pandas as pd\n",
    "import numpy as np\n",
    "import matplotlib.pyplot as plt\n",
    "import json\n",
    "from uk_covid19 import Cov19API"
   ]
  },
  {
   "cell_type": "code",
   "execution_count": 2,
   "id": "3afe80b1-ca35-44a0-adc0-de1dbaf50511",
   "metadata": {},
   "outputs": [],
   "source": [
    "%matplotlib inline\n",
    "# make figures larger\n",
    "plt.rcParams['figure.dpi'] = 100"
   ]
  },
  {
   "cell_type": "markdown",
   "id": "f540cceb-058e-4c27-89ad-078d1d57aa9b",
   "metadata": {},
   "source": [
    "# New Cases & Testing in the COVID-19 Pandemic"
   ]
  },
  {
   "cell_type": "markdown",
   "id": "81fae9a9-22e3-4997-9cbb-b064204ed240",
   "metadata": {},
   "source": [
    "This site makes use of data from Public Health England (PHE) in relation to the COVID-19 pandemic, specifically data relating to testing. The data covers the period 03-01-2020 to 29-11-2023 but may be refreshed to reflect the most recent data. On this time interval, we track the number of new cases, and the number of both new LFD and PCR test results for each day."
   ]
  },
  {
   "cell_type": "code",
   "execution_count": 3,
   "id": "62b1b711-6785-4bfe-9180-9e287b748744",
   "metadata": {},
   "outputs": [],
   "source": [
    "# Load JSON files and store the raw data in some variable. Edit as appropriate\n",
    "with open(\"test_cases.json\", \"rt\") as INFILE:\n",
    "    jsondata = json.load(INFILE)"
   ]
  },
  {
   "cell_type": "code",
   "execution_count": 4,
   "id": "076c7bef-0729-4381-bbd7-9fce73a4e6a1",
   "metadata": {},
   "outputs": [],
   "source": [
    "def wrangle_data(rawdata):\n",
    "    rawlist = rawdata['data'] # isolate list of actual data\n",
    "    dates = [dict['date'] for dict in rawlist] # creates a list of all date entries in the data\n",
    "    dates.sort() # sorts dates chronologically\n",
    "    startdate = pd.to_datetime(dates[0], format = \"%Y-%m-%d\")\n",
    "    enddate = pd.to_datetime(dates[-1], format = \"%Y-%m-%d\")\n",
    "    index = pd.date_range(startdate, enddate, freq = 'D') # this returns a more reliable series of dates\n",
    "    columns = list(rawlist[0].keys())[1:] # the column names correspond to the keys of each dictionary entry (except date)\n",
    "\n",
    "    df = pd.DataFrame(index = index, columns = columns) # creation of the dataframe\n",
    "\n",
    "    for entry in rawlist:\n",
    "        date = pd.to_datetime(entry['date'], format = \"%Y-%m-%d\")\n",
    "        for column in columns:\n",
    "            # each date-column datapoint is assigned value 0 if no is data available, \n",
    "            # otherwise we assign it the entry value.\n",
    "            if pd.isna(df.loc[date,column]): # if no value for that date-column entry (all NaN so far):\n",
    "                value = float(entry[column]) if entry[column] != None else 0.0 # 'value' is set to the corresponding entry from the data\n",
    "                df.loc[date, column] = value # set that corresponding entry to 'value'\n",
    "    df.fillna(0.0, inplace = True) # fills any remaining gaps as a result of missing dates in the data\n",
    "\n",
    "    return df\n",
    "\n",
    "df = wrangle_data(jsondata)"
   ]
  },
  {
   "cell_type": "code",
   "execution_count": 5,
   "id": "8f7b28de-7e7e-4375-a6fd-52b7c3b54dcd",
   "metadata": {},
   "outputs": [],
   "source": [
    "# API access code. Do not call this function directly; it will be called by the button callback.\n",
    "\n",
    "def access_api():\n",
    "    filt = ['areaType=nation', 'areaName=England']\n",
    "    struct = {'date': 'date',\n",
    "          'cases': 'newCasesBySpecimenDate',\n",
    "          'LFDs': 'newLFDTestsBySpecimenDate',\n",
    "          'PCRs': 'newPCRTestsBySpecimenDate',\n",
    "         }\n",
    "    api = Cov19API(filters=filt, structure=struct) # accesses exactly the same data from PHE as was done for original json.\n",
    "    apidata = api.get_json()\n",
    "\n",
    "    return apidata # return data read from the API"
   ]
  },
  {
   "cell_type": "markdown",
   "id": "f685c410-636c-42b6-bc96-c0679d40ed12",
   "metadata": {},
   "source": [
    "Click the 'Fetch Data' button to retrieve the latest data from PHE. This will automatically refresh the graph.\n",
    "Choose which data to display and whether to represent it on a linear or logarithmic scale."
   ]
  },
  {
   "cell_type": "code",
   "execution_count": 6,
   "id": "40d25b9c-c1cb-4e8e-8886-dc360f75f130",
   "metadata": {},
   "outputs": [
    {
     "data": {
      "application/vnd.jupyter.widget-view+json": {
       "model_id": "48ec88257c6d4466836e6106152b9054",
       "version_major": 2,
       "version_minor": 0
      },
      "text/plain": [
       "Button(button_style='primary', description='Fetch Data', icon='refresh', style=ButtonStyle(), tooltip='Fetch u…"
      ]
     },
     "metadata": {},
     "output_type": "display_data"
    }
   ],
   "source": [
    "# Printout from this function will be lost in Voila unless captured in an\n",
    "# output widget - therefore, we give feedback to the user by changing the \n",
    "# appearance of the button\n",
    "def api_button_callback(button):\n",
    "    \"\"\" Button callback - it must take the button as its parameter (unused in this case).\n",
    "    Accesses API, wrangles data, updates global variable df used for plotting. \"\"\"\n",
    "    # Get fresh data from the API.\n",
    "    try:\n",
    "        apidata = access_api()\n",
    "        # wrangle the data and overwrite the dataframe for plotting\n",
    "        global df\n",
    "        df = wrangle_data(apidata) # set dataframe to new API data\n",
    "        refresh_graph() # function defined later - refreshes data plotted on the graph\n",
    "        apibutton.icon = \"check\" # lets user know the data has been updated\n",
    "        apibutton.disabled = False # allows user to refresh data multiple times\n",
    "    except:\n",
    "        apibutton.description = \"Unavailable\" # lets user know the data could not be updated\n",
    "        apibutton.icon = \"unlink\"\n",
    "    \n",
    "apibutton = wdg.Button(\n",
    "    description = 'Fetch Data',\n",
    "    disabled = False,\n",
    "    button_style = 'primary',\n",
    "    tooltip = \"Fetch updated data from PHE\",\n",
    "    icon = \"refresh\"\n",
    ")\n",
    "\n",
    "# remember to register your button callback function with the button\n",
    "apibutton.on_click(api_button_callback) # the name of your function inside these brackets\n",
    "\n",
    "display(apibutton)\n",
    "\n",
    "# run all cells before clicking on this button"
   ]
  },
  {
   "cell_type": "code",
   "execution_count": 7,
   "id": "40910410-1870-4b45-a6bc-e76f87e39bca",
   "metadata": {},
   "outputs": [
    {
     "data": {
      "application/vnd.jupyter.widget-view+json": {
       "model_id": "8bd175f0b8684d20871c715d23567f7d",
       "version_major": 2,
       "version_minor": 0
      },
      "text/plain": [
       "HBox(children=(SelectMultiple(description='Data:', index=(0, 1, 2), options=('cases', 'LFDs', 'PCRs'), rows=3,…"
      ]
     },
     "metadata": {},
     "output_type": "display_data"
    },
    {
     "data": {
      "application/vnd.jupyter.widget-view+json": {
       "model_id": "c9972ed3997b49a0b48c8921e8ba67d9",
       "version_major": 2,
       "version_minor": 0
      },
      "text/plain": [
       "Output()"
      ]
     },
     "metadata": {},
     "output_type": "display_data"
    }
   ],
   "source": [
    "tests_series = wdg.SelectMultiple(\n",
    "    # this defines which columns are being shown, as chosen by the user\n",
    "    options = ['cases', 'LFDs', 'PCRs'], # data to choose from\n",
    "    value = ['cases', 'LFDs', 'PCRs'],\n",
    "    rows = 3,\n",
    "    description = 'Data:',\n",
    "    disabled = False # so that user can keep changing their choices\n",
    ")\n",
    "\n",
    "tests_scale = wdg.RadioButtons(\n",
    "    # this allows the user to choose whether to represent the data on a linear or logarithmic scale\n",
    "    options = ['linear', 'log'],\n",
    "    description = 'Scale:',\n",
    "    disabled = False\n",
    ")\n",
    "\n",
    "tests_controls = wdg.HBox([tests_series, tests_scale])\n",
    "\n",
    "def tests_graph(cols, scale):\n",
    "    if scale == 'linear':\n",
    "        logscale = False\n",
    "    else:\n",
    "        logscale = True # updates graph to reflect user's choice of scale\n",
    "    ncols = len(cols)\n",
    "    if ncols == 0: # i.e. if no data has been selected to be visualised by the user\n",
    "        print(\"Click to select data for graph\")\n",
    "        print(\"(cmd/CTRL-Click to select more than one category)\")\n",
    "    else: # i.e. if data has been selected by the user\n",
    "        # plot the graph according to the data chosen for visualisation by the user:\n",
    "        df[list(cols)].plot.line(logy = logscale, color={\"cases\": \"mediumseagreen\", \"LFDs\": \"cornflowerblue\", \"PCRs\": \"mediumpurple\"})\n",
    "        # (added pretty colours)\n",
    "        plt.xlabel(\"Time\")\n",
    "        plt.ylabel(\"Amount\")\n",
    "        plt.legend() # needed to reflect colour changes\n",
    "        plt.show()\n",
    "\n",
    "def refresh_graph():\n",
    "    \"\"\" We change the value of the widget in order to force a redraw of the graph;\n",
    "    this is useful when the data have been updated. \"\"\"\n",
    "    current = tests_series.value \n",
    "    if current == tests_series.options[0]:\n",
    "        other = [tests_series.options[1], tests_series.options[2]]\n",
    "    if current == tests_series.options[1]:\n",
    "        other = [tests_series.options[0], tests_series.options[2]]\n",
    "    else:\n",
    "        other = [tests_series.options[0], tests_series.options[1]]\n",
    "    tests_series.value = other # forces the redraw\n",
    "    tests_series.value = current # now we can change it back\n",
    "\n",
    "output = wdg.interactive_output(tests_graph, {'cols' : tests_series, 'scale' : tests_scale})\n",
    "\n",
    "display(tests_controls, output)"
   ]
  },
  {
   "cell_type": "markdown",
   "id": "11f1c89e-cdd4-41f3-afc2-ed815dede047",
   "metadata": {},
   "source": [
    "As we would expect, the graph shows a rapid increase in the number of PCR test results and subsequently of new cases over the course of the first few months of 2020 at the outbreak of the pandemic. Following this, the number of new cases varies with seasonal change, showing a general decrease in the summer and an increase in the winter months (e.g. an increase of over 2 orders of magnitude between May 2020 and January 2021), which is typical for the propagation of viruses. However the number of new test results varies much less and remains relatively stable until approximately January 2022, where the number of new cases and new test results all generally decrease. This could therefore indicate the reliability of the tests, as the number of positive results appears to vary more or less independently of the number of tests taken."
   ]
  },
  {
   "cell_type": "code",
   "execution_count": null,
   "id": "0b7c8b68-a2e8-47ae-86c6-974ba1bf00f7",
   "metadata": {},
   "outputs": [],
   "source": []
  }
 ],
 "metadata": {
  "kernelspec": {
   "display_name": "Python 3 (ipykernel)",
   "language": "python",
   "name": "python3"
  },
  "language_info": {
   "codemirror_mode": {
    "name": "ipython",
    "version": 3
   },
   "file_extension": ".py",
   "mimetype": "text/x-python",
   "name": "python",
   "nbconvert_exporter": "python",
   "pygments_lexer": "ipython3",
   "version": "3.11.9"
  }
 },
 "nbformat": 4,
 "nbformat_minor": 5
}
